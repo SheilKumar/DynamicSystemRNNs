{
 "cells": [
  {
   "cell_type": "code",
   "execution_count": 1,
   "metadata": {},
   "outputs": [],
   "source": [
    "from constructor import Constructor\n",
    "from models import Data "
   ]
  },
  {
   "cell_type": "code",
   "execution_count": 2,
   "metadata": {},
   "outputs": [],
   "source": [
    "import tensorflow as tf\n",
    "import numpy as np\n",
    "import os "
   ]
  },
  {
   "cell_type": "code",
   "execution_count": 3,
   "metadata": {},
   "outputs": [],
   "source": [
    "Data = Data([1,1,1],30000,0.01)"
   ]
  },
  {
   "cell_type": "code",
   "execution_count": 4,
   "metadata": {},
   "outputs": [],
   "source": [
    "Data.getData(150,128)"
   ]
  },
  {
   "cell_type": "code",
   "execution_count": 5,
   "metadata": {},
   "outputs": [
    {
     "data": {
      "text/plain": [
       "TensorShape([15360, 150, 3])"
      ]
     },
     "execution_count": 5,
     "metadata": {},
     "output_type": "execute_result"
    }
   ],
   "source": [
    "Data.x_train.shape"
   ]
  },
  {
   "cell_type": "code",
   "execution_count": 6,
   "metadata": {},
   "outputs": [
    {
     "data": {
      "text/plain": [
       "3840"
      ]
     },
     "execution_count": 6,
     "metadata": {},
     "output_type": "execute_result"
    }
   ],
   "source": [
    "Data.batch_size"
   ]
  },
  {
   "cell_type": "code",
   "execution_count": 7,
   "metadata": {},
   "outputs": [
    {
     "name": "stdout",
     "output_type": "stream",
     "text": [
      "Epoch 1/5\n",
      "  48/7680 [..............................] - ETA: 21:57 - loss: 0.9401 - accuracy: 0.2679"
     ]
    },
    {
     "ename": "KeyboardInterrupt",
     "evalue": "",
     "output_type": "error",
     "traceback": [
      "\u001b[0;31m---------------------------------------------------------------------------\u001b[0m",
      "\u001b[0;31mKeyboardInterrupt\u001b[0m                         Traceback (most recent call last)",
      "\u001b[0;32m<ipython-input-7-3e0bae04b8e2>\u001b[0m in \u001b[0;36m<module>\u001b[0;34m\u001b[0m\n\u001b[1;32m      1\u001b[0m \u001b[0mmodel1\u001b[0m \u001b[0;34m=\u001b[0m \u001b[0mConstructor\u001b[0m\u001b[0;34m(\u001b[0m\u001b[0mData\u001b[0m\u001b[0;34m,\u001b[0m\u001b[0;36m30\u001b[0m\u001b[0;34m,\u001b[0m\u001b[0;36m5\u001b[0m\u001b[0;34m,\u001b[0m\u001b[0;36m2\u001b[0m\u001b[0;34m)\u001b[0m\u001b[0;34m\u001b[0m\u001b[0;34m\u001b[0m\u001b[0m\n\u001b[0;32m----> 2\u001b[0;31m \u001b[0mmodel1\u001b[0m\u001b[0;34m.\u001b[0m\u001b[0mfitModel\u001b[0m\u001b[0;34m(\u001b[0m\u001b[0;34m)\u001b[0m\u001b[0;34m\u001b[0m\u001b[0;34m\u001b[0m\u001b[0m\n\u001b[0m",
      "\u001b[0;32m~/Documents/Fall 2020/DynamicSystemRNNs/DynamicSystemRNNs/constructor.py\u001b[0m in \u001b[0;36mfitModel\u001b[0;34m(self)\u001b[0m\n\u001b[1;32m     46\u001b[0m         \u001b[0;32melse\u001b[0m\u001b[0;34m:\u001b[0m\u001b[0;34m\u001b[0m\u001b[0;34m\u001b[0m\u001b[0m\n\u001b[1;32m     47\u001b[0m             \u001b[0mbatch_size_user\u001b[0m \u001b[0;34m=\u001b[0m \u001b[0mself\u001b[0m\u001b[0;34m.\u001b[0m\u001b[0mData\u001b[0m\u001b[0;34m.\u001b[0m\u001b[0mbatch_size\u001b[0m\u001b[0;34m\u001b[0m\u001b[0;34m\u001b[0m\u001b[0m\n\u001b[0;32m---> 48\u001b[0;31m         self.model.fit(x=self.Data.x_train,\n\u001b[0m\u001b[1;32m     49\u001b[0m         \u001b[0my\u001b[0m\u001b[0;34m=\u001b[0m\u001b[0mself\u001b[0m\u001b[0;34m.\u001b[0m\u001b[0mData\u001b[0m\u001b[0;34m.\u001b[0m\u001b[0my_train\u001b[0m\u001b[0;34m,\u001b[0m\u001b[0;34m\u001b[0m\u001b[0;34m\u001b[0m\u001b[0m\n\u001b[1;32m     50\u001b[0m         \u001b[0mbatch_size\u001b[0m \u001b[0;34m=\u001b[0m \u001b[0mbatch_size_user\u001b[0m\u001b[0;34m,\u001b[0m\u001b[0;34m\u001b[0m\u001b[0;34m\u001b[0m\u001b[0m\n",
      "\u001b[0;32m~/miniconda3/envs/ox/lib/python3.9/site-packages/tensorflow/python/keras/engine/training.py\u001b[0m in \u001b[0;36mfit\u001b[0;34m(self, x, y, batch_size, epochs, verbose, callbacks, validation_split, validation_data, shuffle, class_weight, sample_weight, initial_epoch, steps_per_epoch, validation_steps, validation_batch_size, validation_freq, max_queue_size, workers, use_multiprocessing)\u001b[0m\n\u001b[1;32m   1098\u001b[0m                 _r=1):\n\u001b[1;32m   1099\u001b[0m               \u001b[0mcallbacks\u001b[0m\u001b[0;34m.\u001b[0m\u001b[0mon_train_batch_begin\u001b[0m\u001b[0;34m(\u001b[0m\u001b[0mstep\u001b[0m\u001b[0;34m)\u001b[0m\u001b[0;34m\u001b[0m\u001b[0;34m\u001b[0m\u001b[0m\n\u001b[0;32m-> 1100\u001b[0;31m               \u001b[0mtmp_logs\u001b[0m \u001b[0;34m=\u001b[0m \u001b[0mself\u001b[0m\u001b[0;34m.\u001b[0m\u001b[0mtrain_function\u001b[0m\u001b[0;34m(\u001b[0m\u001b[0miterator\u001b[0m\u001b[0;34m)\u001b[0m\u001b[0;34m\u001b[0m\u001b[0;34m\u001b[0m\u001b[0m\n\u001b[0m\u001b[1;32m   1101\u001b[0m               \u001b[0;32mif\u001b[0m \u001b[0mdata_handler\u001b[0m\u001b[0;34m.\u001b[0m\u001b[0mshould_sync\u001b[0m\u001b[0;34m:\u001b[0m\u001b[0;34m\u001b[0m\u001b[0;34m\u001b[0m\u001b[0m\n\u001b[1;32m   1102\u001b[0m                 \u001b[0mcontext\u001b[0m\u001b[0;34m.\u001b[0m\u001b[0masync_wait\u001b[0m\u001b[0;34m(\u001b[0m\u001b[0;34m)\u001b[0m\u001b[0;34m\u001b[0m\u001b[0;34m\u001b[0m\u001b[0m\n",
      "\u001b[0;32m~/miniconda3/envs/ox/lib/python3.9/site-packages/tensorflow/python/eager/def_function.py\u001b[0m in \u001b[0;36m__call__\u001b[0;34m(self, *args, **kwds)\u001b[0m\n\u001b[1;32m    826\u001b[0m     \u001b[0mtracing_count\u001b[0m \u001b[0;34m=\u001b[0m \u001b[0mself\u001b[0m\u001b[0;34m.\u001b[0m\u001b[0mexperimental_get_tracing_count\u001b[0m\u001b[0;34m(\u001b[0m\u001b[0;34m)\u001b[0m\u001b[0;34m\u001b[0m\u001b[0;34m\u001b[0m\u001b[0m\n\u001b[1;32m    827\u001b[0m     \u001b[0;32mwith\u001b[0m \u001b[0mtrace\u001b[0m\u001b[0;34m.\u001b[0m\u001b[0mTrace\u001b[0m\u001b[0;34m(\u001b[0m\u001b[0mself\u001b[0m\u001b[0;34m.\u001b[0m\u001b[0m_name\u001b[0m\u001b[0;34m)\u001b[0m \u001b[0;32mas\u001b[0m \u001b[0mtm\u001b[0m\u001b[0;34m:\u001b[0m\u001b[0;34m\u001b[0m\u001b[0;34m\u001b[0m\u001b[0m\n\u001b[0;32m--> 828\u001b[0;31m       \u001b[0mresult\u001b[0m \u001b[0;34m=\u001b[0m \u001b[0mself\u001b[0m\u001b[0;34m.\u001b[0m\u001b[0m_call\u001b[0m\u001b[0;34m(\u001b[0m\u001b[0;34m*\u001b[0m\u001b[0margs\u001b[0m\u001b[0;34m,\u001b[0m \u001b[0;34m**\u001b[0m\u001b[0mkwds\u001b[0m\u001b[0;34m)\u001b[0m\u001b[0;34m\u001b[0m\u001b[0;34m\u001b[0m\u001b[0m\n\u001b[0m\u001b[1;32m    829\u001b[0m       \u001b[0mcompiler\u001b[0m \u001b[0;34m=\u001b[0m \u001b[0;34m\"xla\"\u001b[0m \u001b[0;32mif\u001b[0m \u001b[0mself\u001b[0m\u001b[0;34m.\u001b[0m\u001b[0m_experimental_compile\u001b[0m \u001b[0;32melse\u001b[0m \u001b[0;34m\"nonXla\"\u001b[0m\u001b[0;34m\u001b[0m\u001b[0;34m\u001b[0m\u001b[0m\n\u001b[1;32m    830\u001b[0m       \u001b[0mnew_tracing_count\u001b[0m \u001b[0;34m=\u001b[0m \u001b[0mself\u001b[0m\u001b[0;34m.\u001b[0m\u001b[0mexperimental_get_tracing_count\u001b[0m\u001b[0;34m(\u001b[0m\u001b[0;34m)\u001b[0m\u001b[0;34m\u001b[0m\u001b[0;34m\u001b[0m\u001b[0m\n",
      "\u001b[0;32m~/miniconda3/envs/ox/lib/python3.9/site-packages/tensorflow/python/eager/def_function.py\u001b[0m in \u001b[0;36m_call\u001b[0;34m(self, *args, **kwds)\u001b[0m\n\u001b[1;32m    853\u001b[0m       \u001b[0;31m# In this case we have created variables on the first call, so we run the\u001b[0m\u001b[0;34m\u001b[0m\u001b[0;34m\u001b[0m\u001b[0;34m\u001b[0m\u001b[0m\n\u001b[1;32m    854\u001b[0m       \u001b[0;31m# defunned version which is guaranteed to never create variables.\u001b[0m\u001b[0;34m\u001b[0m\u001b[0;34m\u001b[0m\u001b[0;34m\u001b[0m\u001b[0m\n\u001b[0;32m--> 855\u001b[0;31m       \u001b[0;32mreturn\u001b[0m \u001b[0mself\u001b[0m\u001b[0;34m.\u001b[0m\u001b[0m_stateless_fn\u001b[0m\u001b[0;34m(\u001b[0m\u001b[0;34m*\u001b[0m\u001b[0margs\u001b[0m\u001b[0;34m,\u001b[0m \u001b[0;34m**\u001b[0m\u001b[0mkwds\u001b[0m\u001b[0;34m)\u001b[0m  \u001b[0;31m# pylint: disable=not-callable\u001b[0m\u001b[0;34m\u001b[0m\u001b[0;34m\u001b[0m\u001b[0m\n\u001b[0m\u001b[1;32m    856\u001b[0m     \u001b[0;32melif\u001b[0m \u001b[0mself\u001b[0m\u001b[0;34m.\u001b[0m\u001b[0m_stateful_fn\u001b[0m \u001b[0;32mis\u001b[0m \u001b[0;32mnot\u001b[0m \u001b[0;32mNone\u001b[0m\u001b[0;34m:\u001b[0m\u001b[0;34m\u001b[0m\u001b[0;34m\u001b[0m\u001b[0m\n\u001b[1;32m    857\u001b[0m       \u001b[0;31m# Release the lock early so that multiple threads can perform the call\u001b[0m\u001b[0;34m\u001b[0m\u001b[0;34m\u001b[0m\u001b[0;34m\u001b[0m\u001b[0m\n",
      "\u001b[0;32m~/miniconda3/envs/ox/lib/python3.9/site-packages/tensorflow/python/eager/function.py\u001b[0m in \u001b[0;36m__call__\u001b[0;34m(self, *args, **kwargs)\u001b[0m\n\u001b[1;32m   2940\u001b[0m       (graph_function,\n\u001b[1;32m   2941\u001b[0m        filtered_flat_args) = self._maybe_define_function(args, kwargs)\n\u001b[0;32m-> 2942\u001b[0;31m     return graph_function._call_flat(\n\u001b[0m\u001b[1;32m   2943\u001b[0m         filtered_flat_args, captured_inputs=graph_function.captured_inputs)  # pylint: disable=protected-access\n\u001b[1;32m   2944\u001b[0m \u001b[0;34m\u001b[0m\u001b[0m\n",
      "\u001b[0;32m~/miniconda3/envs/ox/lib/python3.9/site-packages/tensorflow/python/eager/function.py\u001b[0m in \u001b[0;36m_call_flat\u001b[0;34m(self, args, captured_inputs, cancellation_manager)\u001b[0m\n\u001b[1;32m   1916\u001b[0m         and executing_eagerly):\n\u001b[1;32m   1917\u001b[0m       \u001b[0;31m# No tape is watching; skip to running the function.\u001b[0m\u001b[0;34m\u001b[0m\u001b[0;34m\u001b[0m\u001b[0;34m\u001b[0m\u001b[0m\n\u001b[0;32m-> 1918\u001b[0;31m       return self._build_call_outputs(self._inference_function.call(\n\u001b[0m\u001b[1;32m   1919\u001b[0m           ctx, args, cancellation_manager=cancellation_manager))\n\u001b[1;32m   1920\u001b[0m     forward_backward = self._select_forward_and_backward_functions(\n",
      "\u001b[0;32m~/miniconda3/envs/ox/lib/python3.9/site-packages/tensorflow/python/eager/function.py\u001b[0m in \u001b[0;36mcall\u001b[0;34m(self, ctx, args, cancellation_manager)\u001b[0m\n\u001b[1;32m    553\u001b[0m       \u001b[0;32mwith\u001b[0m \u001b[0m_InterpolateFunctionError\u001b[0m\u001b[0;34m(\u001b[0m\u001b[0mself\u001b[0m\u001b[0;34m)\u001b[0m\u001b[0;34m:\u001b[0m\u001b[0;34m\u001b[0m\u001b[0;34m\u001b[0m\u001b[0m\n\u001b[1;32m    554\u001b[0m         \u001b[0;32mif\u001b[0m \u001b[0mcancellation_manager\u001b[0m \u001b[0;32mis\u001b[0m \u001b[0;32mNone\u001b[0m\u001b[0;34m:\u001b[0m\u001b[0;34m\u001b[0m\u001b[0;34m\u001b[0m\u001b[0m\n\u001b[0;32m--> 555\u001b[0;31m           outputs = execute.execute(\n\u001b[0m\u001b[1;32m    556\u001b[0m               \u001b[0mstr\u001b[0m\u001b[0;34m(\u001b[0m\u001b[0mself\u001b[0m\u001b[0;34m.\u001b[0m\u001b[0msignature\u001b[0m\u001b[0;34m.\u001b[0m\u001b[0mname\u001b[0m\u001b[0;34m)\u001b[0m\u001b[0;34m,\u001b[0m\u001b[0;34m\u001b[0m\u001b[0;34m\u001b[0m\u001b[0m\n\u001b[1;32m    557\u001b[0m               \u001b[0mnum_outputs\u001b[0m\u001b[0;34m=\u001b[0m\u001b[0mself\u001b[0m\u001b[0;34m.\u001b[0m\u001b[0m_num_outputs\u001b[0m\u001b[0;34m,\u001b[0m\u001b[0;34m\u001b[0m\u001b[0;34m\u001b[0m\u001b[0m\n",
      "\u001b[0;32m~/miniconda3/envs/ox/lib/python3.9/site-packages/tensorflow/python/eager/execute.py\u001b[0m in \u001b[0;36mquick_execute\u001b[0;34m(op_name, num_outputs, inputs, attrs, ctx, name)\u001b[0m\n\u001b[1;32m     57\u001b[0m   \u001b[0;32mtry\u001b[0m\u001b[0;34m:\u001b[0m\u001b[0;34m\u001b[0m\u001b[0;34m\u001b[0m\u001b[0m\n\u001b[1;32m     58\u001b[0m     \u001b[0mctx\u001b[0m\u001b[0;34m.\u001b[0m\u001b[0mensure_initialized\u001b[0m\u001b[0;34m(\u001b[0m\u001b[0;34m)\u001b[0m\u001b[0;34m\u001b[0m\u001b[0;34m\u001b[0m\u001b[0m\n\u001b[0;32m---> 59\u001b[0;31m     tensors = pywrap_tfe.TFE_Py_Execute(ctx._handle, device_name, op_name,\n\u001b[0m\u001b[1;32m     60\u001b[0m                                         inputs, attrs, num_outputs)\n\u001b[1;32m     61\u001b[0m   \u001b[0;32mexcept\u001b[0m \u001b[0mcore\u001b[0m\u001b[0;34m.\u001b[0m\u001b[0m_NotOkStatusException\u001b[0m \u001b[0;32mas\u001b[0m \u001b[0me\u001b[0m\u001b[0;34m:\u001b[0m\u001b[0;34m\u001b[0m\u001b[0;34m\u001b[0m\u001b[0m\n",
      "\u001b[0;31mKeyboardInterrupt\u001b[0m: "
     ]
    }
   ],
   "source": [
    "model1 = Constructor(Data,30,5,2)\n",
    "model1.fitModel()"
   ]
  },
  {
   "cell_type": "code",
   "execution_count": 18,
   "metadata": {},
   "outputs": [
    {
     "name": "stdout",
     "output_type": "stream",
     "text": [
      "Model: \"sequential_4\"\n",
      "_________________________________________________________________\n",
      "Layer (type)                 Output Shape              Param #   \n",
      "=================================================================\n",
      "lstm_4 (LSTM)                (2, None, 30)             4080      \n",
      "_________________________________________________________________\n",
      "dense_4 (Dense)              (2, None, 3)              93        \n",
      "=================================================================\n",
      "Total params: 4,173\n",
      "Trainable params: 4,173\n",
      "Non-trainable params: 0\n",
      "_________________________________________________________________\n"
     ]
    }
   ],
   "source": [
    "model1.model.summary()"
   ]
  },
  {
   "cell_type": "code",
   "execution_count": 7,
   "metadata": {},
   "outputs": [
    {
     "name": "stdout",
     "output_type": "stream",
     "text": [
      "WARNING:tensorflow:Inconsistent references when loading the checkpoint into this object graph. Either the Trackable object references in the Python program have changed in an incompatible way, or the checkpoint was generated in an incompatible program.\n",
      "\n",
      "Two checkpoint references resolved to different objects (<tensorflow.python.keras.layers.recurrent_v2.LSTM object at 0x7fb3d859e550> and <tensorflow.python.keras.layers.core.Dense object at 0x7fb3d859e1c0>).\n"
     ]
    }
   ],
   "source": [
    "model2 = Constructor(Data,128,25,baseline=False)"
   ]
  },
  {
   "cell_type": "code",
   "execution_count": 8,
   "metadata": {},
   "outputs": [],
   "source": [
    "model2.predict()"
   ]
  },
  {
   "cell_type": "code",
   "execution_count": 9,
   "metadata": {},
   "outputs": [
    {
     "data": {
      "text/plain": [
       "array([[-5.48283069e+00, -9.11188342e+00,  1.51902822e+01],\n",
       "       [-5.84962984e+00, -9.74257083e+00,  1.53247023e+01],\n",
       "       [-6.24296616e+00, -1.04055029e+01,  1.55293730e+01],\n",
       "       [-6.66296323e+00, -1.10967328e+01,  1.58120914e+01],\n",
       "       [-7.10939168e+00, -1.18109054e+01,  1.61809978e+01],\n",
       "       [-7.58163567e+00, -1.25411319e+01,  1.66443558e+01],\n",
       "       [-8.07857799e+00, -1.32787603e+01,  1.72103685e+01],\n",
       "       [-8.59839420e+00, -1.40129503e+01,  1.78870180e+01],\n",
       "       [-9.13828253e+00, -1.47302038e+01,  1.86816225e+01],\n",
       "       [-9.69414680e+00, -1.54141178e+01,  1.95997911e+01],\n",
       "       [-1.02602537e+01, -1.60453465e+01,  2.06439871e+01],\n",
       "       [-1.08289633e+01, -1.66016833e+01,  2.18121311e+01],\n",
       "       [-1.13907343e+01, -1.70584360e+01,  2.30964957e+01],\n",
       "       [-1.19345218e+01, -1.73894122e+01,  2.44830424e+01],\n",
       "       [-1.24483502e+01, -1.75686259e+01,  2.59512445e+01],\n",
       "       [-1.29196073e+01, -1.75724714e+01,  2.74741996e+01],\n",
       "       [-1.33348786e+01, -1.73819569e+01,  2.90187513e+01],\n",
       "       [-1.36799278e+01, -1.69848941e+01,  3.05458301e+01],\n",
       "       [-1.39411099e+01, -1.63783681e+01,  3.20121412e+01],\n",
       "       [-1.41085628e+01, -1.55710846e+01,  3.33739123e+01],\n",
       "       [-1.41777141e+01, -1.45833299e+01,  3.45907185e+01],\n",
       "       [-1.41456964e+01, -1.34444315e+01,  3.56277084e+01],\n",
       "       [-1.40084682e+01, -1.21909369e+01,  3.64579548e+01],\n",
       "       [-1.37635050e+01, -1.08655063e+01,  3.70652459e+01],\n",
       "       [-1.34137125e+01, -9.51421176e+00,  3.74455079e+01],\n",
       "       [-1.29680864e+01, -8.18221687e+00,  3.76055763e+01],\n",
       "       [-1.24398967e+01, -6.90945743e+00,  3.75604110e+01],\n",
       "       [-1.18449769e+01, -5.72743903e+00,  3.73307413e+01],\n",
       "       [-1.12004879e+01, -4.65781413e+00,  3.69413950e+01],\n",
       "       [-1.05233550e+01, -3.71286796e+00,  3.64196959e+01],\n",
       "       [-9.82879397e+00, -2.89677231e+00,  3.57939044e+01],\n",
       "       [-9.12975851e+00, -2.20702492e+00,  3.50915898e+01],\n",
       "       [-8.43737933e+00, -1.63683300e+00,  3.43373735e+01],\n",
       "       [-7.76157138e+00, -1.17739712e+00,  3.35511115e+01],\n",
       "       [-7.11093178e+00, -8.18446800e-01,  3.27480489e+01],\n",
       "       [-6.49234375e+00, -5.48401996e-01,  3.19398235e+01],\n",
       "       [-5.91084126e+00, -3.55054005e-01,  3.11352211e+01],\n",
       "       [-5.36971137e+00, -2.26331725e-01,  3.03406922e+01],\n",
       "       [-4.87068835e+00, -1.50877453e-01,  2.95607795e+01],\n",
       "       [-4.41419321e+00, -1.18425652e-01,  2.87984950e+01],\n",
       "       [-3.99960584e+00, -1.20021528e-01,  2.80556515e+01],\n",
       "       [-3.62554506e+00, -1.48099205e-01,  2.73331387e+01],\n",
       "       [-3.29012454e+00, -1.96440122e-01,  2.66311612e+01],\n",
       "       [-2.99115965e+00, -2.60043456e-01,  2.59494475e+01],\n",
       "       [-2.72632289e+00, -3.34952733e-01,  2.52874292e+01],\n",
       "       [-2.49325144e+00, -4.18079665e-01,  2.46443820e+01],\n",
       "       [-2.28961854e+00, -5.07048203e-01,  2.40195269e+01],\n",
       "       [-2.11317545e+00, -6.00071041e-01,  2.34120959e+01],\n",
       "       [-1.96177401e+00, -6.95853165e-01,  2.28213718e+01],\n",
       "       [-1.83337574e+00, -7.93520814e-01,  2.22467091e+01],\n",
       "       [-1.72605832e+00, -8.92566531e-01,  2.16875435e+01],\n",
       "       [-1.63802469e+00, -9.92803744e-01,  2.11433902e+01],\n",
       "       [-1.56761805e+00, -1.09432380e+00,  2.06138393e+01],\n",
       "       [-1.51333928e+00, -1.19745276e+00,  2.00985491e+01],\n",
       "       [-1.47386212e+00, -1.30270873e+00,  1.95972386e+01],\n",
       "       [-1.44804202e+00, -1.41076153e+00,  1.91096833e+01],\n",
       "       [-1.43491594e+00, -1.52239977e+00,  1.86357122e+01],\n",
       "       [-1.43369640e+00, -1.63850601e+00,  1.81752066e+01],\n",
       "       [-1.44376061e+00, -1.76003969e+00,  1.77281017e+01],\n",
       "       [-1.46463904e+00, -1.88802978e+00,  1.72943890e+01],\n",
       "       [-1.49600406e+00, -2.02357234e+00,  1.68741216e+01],\n",
       "       [-1.53766079e+00, -2.16783422e+00,  1.64674204e+01],\n",
       "       [-1.58953983e+00, -2.32205942e+00,  1.60744828e+01],\n",
       "       [-1.65169221e+00, -2.48757760e+00,  1.56955950e+01],\n",
       "       [-1.72428603e+00, -2.66581277e+00,  1.53311437e+01],\n",
       "       [-1.80760482e+00, -2.85829194e+00,  1.49816326e+01],\n",
       "       [-1.90204674e+00, -3.06665204e+00,  1.46476985e+01],\n",
       "       [-2.00812616e+00, -3.29264533e+00,  1.43301297e+01],\n",
       "       [-2.12647461e+00, -3.53814112e+00,  1.40298854e+01],\n",
       "       [-2.25784511e+00, -3.80512474e+00,  1.37481158e+01],\n",
       "       [-2.40311589e+00, -4.09569211e+00,  1.34861837e+01],\n",
       "       [-2.56329600e+00, -4.41203977e+00,  1.32456882e+01],\n",
       "       [-2.73952968e+00, -4.75644950e+00,  1.30284919e+01],\n",
       "       [-2.93309955e+00, -5.13126756e+00,  1.28367559e+01],\n",
       "       [-3.14542591e+00, -5.53887530e+00,  1.26729879e+01],\n",
       "       [-3.37805757e+00, -5.98165084e+00,  1.25401098e+01],\n",
       "       [-3.63265284e+00, -6.46192063e+00,  1.24415527e+01],\n",
       "       [-3.91094920e+00, -6.98190482e+00,  1.23813765e+01],\n",
       "       [-4.21472936e+00, -7.54366971e+00,  1.23643974e+01],\n",
       "       [-4.54579100e+00, -8.14909579e+00,  1.23962930e+01],\n",
       "       [-4.90591952e+00, -8.79983915e+00,  1.24836596e+01],\n",
       "       [-5.29683730e+00, -9.49720771e+00,  1.26340284e+01],\n",
       "       [-5.72009331e+00, -1.02418333e+01,  1.28558893e+01],\n",
       "       [-6.17688289e+00, -1.10330508e+01,  1.31587980e+01],\n",
       "       [-6.66784870e+00, -1.18680146e+01,  1.35536218e+01],\n",
       "       [-7.19296777e+00, -1.27407898e+01,  1.40527877e+01],\n",
       "       [-7.75157904e+00, -1.36418156e+01,  1.46701048e+01],\n",
       "       [-8.34244567e+00, -1.45578978e+01,  1.54198916e+01],\n",
       "       [-8.96361649e+00, -1.54723914e+01,  1.63156880e+01],\n",
       "       [-9.61192023e+00, -1.63651047e+01,  1.73689494e+01],\n",
       "       [-1.02821248e+01, -1.72117202e+01,  1.85877024e+01],\n",
       "       [-1.09660330e+01, -1.79828925e+01,  1.99748932e+01],\n",
       "       [-1.16521122e+01, -1.86436779e+01,  2.15263658e+01],\n",
       "       [-1.23262287e+01, -1.91544087e+01,  2.32289146e+01],\n",
       "       [-1.29731194e+01, -1.94737777e+01,  2.50591089e+01],\n",
       "       [-1.35771675e+01, -1.95635364e+01,  2.69833392e+01],\n",
       "       [-1.41215580e+01, -1.93928188e+01,  2.89587550e+01],\n",
       "       [-1.45865366e+01, -1.89404114e+01,  3.09335324e+01],\n",
       "       [-1.49489030e+01, -1.81959083e+01,  3.28456758e+01],\n",
       "       [-1.51863447e+01, -1.71644482e+01,  3.46252065e+01],\n",
       "       [-1.52860330e+01, -1.58756309e+01,  3.62059624e+01],\n",
       "       [-1.52448085e+01, -1.43796091e+01,  3.75356420e+01],\n",
       "       [-1.50614610e+01, -1.27324498e+01,  3.85746660e+01],\n",
       "       [-1.47358821e+01, -1.09972618e+01,  3.93016451e+01],\n",
       "       [-1.42749740e+01, -9.24382952e+00,  3.97182193e+01],\n",
       "       [-1.36940746e+01, -7.53856113e+00,  3.98425046e+01],\n",
       "       [-1.30127606e+01, -5.93688896e+00,  3.97016474e+01],\n",
       "       [-1.22519386e+01, -4.47921410e+00,  3.93291426e+01],\n",
       "       [-1.14336129e+01, -3.18948045e+00,  3.87635493e+01],\n",
       "       [-1.05798370e+01, -2.07764533e+00,  3.80458330e+01],\n",
       "       [-9.71081033e+00, -1.14357558e+00,  3.72164119e+01],\n",
       "       [-8.84414264e+00, -3.79384248e-01,  3.63130608e+01],\n",
       "       [-7.99478426e+00,  2.28835495e-01,  3.53692182e+01],\n",
       "       [-7.17513808e+00,  6.98077769e-01,  3.44117153e+01],\n",
       "       [-6.39528771e+00,  1.04573113e+00,  3.34592338e+01],\n",
       "       [-5.66278257e+00,  1.28938563e+00,  3.25235720e+01],\n",
       "       [-4.98242410e+00,  1.44704792e+00,  3.16119512e+01],\n",
       "       [-4.35649248e+00,  1.53637108e+00,  3.07285780e+01],\n",
       "       [-3.78519269e+00,  1.57362121e+00,  2.98755336e+01],\n",
       "       [-3.26713302e+00,  1.57292515e+00,  2.90533769e+01],\n",
       "       [-2.79979055e+00,  1.54592964e+00,  2.82616123e+01],\n",
       "       [-2.37993183e+00,  1.50184120e+00,  2.74990739e+01],\n",
       "       [-2.00394820e+00,  1.44771952e+00,  2.67642265e+01],\n",
       "       [-1.66809627e+00,  1.38887151e+00,  2.60553846e+01],\n",
       "       [-1.36866023e+00,  1.32923391e+00,  2.53708565e+01],\n",
       "       [-1.10205420e+00,  1.27169745e+00,  2.47090297e+01],\n",
       "       [-8.64881806e-01,  1.21837124e+00,  2.40684213e+01],\n",
       "       [-6.53962709e-01,  1.17078867e+00,  2.34477060e+01],\n",
       "       [-4.66336183e-01,  1.13006477e+00,  2.28457273e+01],\n",
       "       [-2.99246840e-01,  1.09700946e+00,  2.22614961e+01],\n",
       "       [-1.50126434e-01,  1.07220323e+00,  2.16941807e+01],\n",
       "       [-1.65778618e-02,  1.05604830e+00,  2.11430862e+01],\n",
       "       [ 1.03631773e-01,  1.04880688e+00,  2.06076327e+01],\n",
       "       [ 2.12570288e-01,  1.05063576e+00,  2.00873301e+01],\n",
       "       [ 3.12136732e-01,  1.06162291e+00,  1.95817575e+01],\n",
       "       [ 4.04061146e-01,  1.08182455e+00,  1.90905471e+01],\n",
       "       [ 4.89910759e-01,  1.11130095e+00,  1.86133715e+01],\n",
       "       [ 5.71104616e-01,  1.15014668e+00,  1.81499362e+01],\n",
       "       [ 6.48931191e-01,  1.19851430e+00,  1.76999756e+01],\n",
       "       [ 7.24570074e-01,  1.25663215e+00,  1.72632509e+01],\n",
       "       [ 7.99112119e-01,  1.32481651e+00,  1.68395500e+01],\n",
       "       [ 8.73579994e-01,  1.40347878e+00,  1.64286893e+01],\n",
       "       [ 9.48945836e-01,  1.49313142e+00,  1.60305183e+01],\n",
       "       [ 1.02614832e+00,  1.59439147e+00,  1.56449243e+01],\n",
       "       [ 1.10610786e+00,  1.70798323e+00,  1.52718414e+01],\n",
       "       [ 1.18974150e+00,  1.83474136e+00,  1.49112612e+01],\n",
       "       [ 1.27797584e+00,  1.97561332e+00,  1.45632456e+01],\n",
       "       [ 1.37176063e+00,  2.13166284e+00,  1.42279432e+01],\n",
       "       [ 1.47207941e+00,  2.30407398e+00,  1.39056058e+01],\n",
       "       [ 1.57995945e+00,  2.49415459e+00,  1.35966072e+01]])"
      ]
     },
     "execution_count": 9,
     "metadata": {},
     "output_type": "execute_result"
    }
   ],
   "source": [
    "model2.pred_y_hat"
   ]
  },
  {
   "cell_type": "code",
   "execution_count": 10,
   "metadata": {},
   "outputs": [
    {
     "data": {
      "text/plain": [
       "<models.Data at 0x7fb3d859e100>"
      ]
     },
     "execution_count": 10,
     "metadata": {},
     "output_type": "execute_result"
    }
   ],
   "source": [
    "Data"
   ]
  }
 ],
 "metadata": {
  "kernelspec": {
   "display_name": "Python 3.9.1 64-bit ('ox': conda)",
   "name": "ox"
  },
  "language_info": {
   "codemirror_mode": {
    "name": "ipython",
    "version": 3
   },
   "file_extension": ".py",
   "mimetype": "text/x-python",
   "name": "python",
   "nbconvert_exporter": "python",
   "pygments_lexer": "ipython3",
   "version": "3.9.1"
  },
  "metadata": {
   "interpreter": {
    "hash": "e8ac26d327d60cedb419d1fc289c4211f406a44b9a89b87cfdb9a53ae9c851eb"
   }
  }
 },
 "nbformat": 4,
 "nbformat_minor": 4
}