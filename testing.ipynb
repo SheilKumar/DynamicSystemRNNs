{
 "cells": [
  {
   "cell_type": "code",
   "execution_count": 8,
   "metadata": {},
   "outputs": [],
   "source": [
    "from constructor import Constructor\n",
    "from models import Data "
   ]
  },
  {
   "cell_type": "code",
   "execution_count": 9,
   "metadata": {},
   "outputs": [],
   "source": [
    "import tensorflow as tf\n",
    "import numpy as np\n",
    "import os "
   ]
  },
  {
   "cell_type": "code",
   "execution_count": 10,
   "metadata": {},
   "outputs": [],
   "source": [
    "Data = Data([1,1,1],30000,0.01)"
   ]
  },
  {
   "cell_type": "code",
   "execution_count": 11,
   "metadata": {},
   "outputs": [],
   "source": [
    "Data.getData(150,128)"
   ]
  },
  {
   "cell_type": "code",
   "execution_count": 12,
   "metadata": {},
   "outputs": [
    {
     "data": {
      "text/plain": [
       "TensorShape([15360, 150, 3])"
      ]
     },
     "execution_count": 12,
     "metadata": {},
     "output_type": "execute_result"
    }
   ],
   "source": [
    "Data.x_train.shape"
   ]
  },
  {
   "cell_type": "code",
   "execution_count": 13,
   "metadata": {},
   "outputs": [
    {
     "data": {
      "text/plain": [
       "3840"
      ]
     },
     "execution_count": 13,
     "metadata": {},
     "output_type": "execute_result"
    }
   ],
   "source": [
    "Data.batch_size"
   ]
  },
  {
   "cell_type": "code",
   "execution_count": 44,
   "metadata": {},
   "outputs": [
    {
     "name": "stdout",
     "output_type": "stream",
     "text": [
      "Train on 15360 samples, validate on 3840 samples\n",
      "Epoch 1/5\n",
      "14720/15360 [===========================>..] - ETA: 0s - loss: 0.3676 - accuracy: 0.3666\n",
      "Epoch 00001: saving model to training_checkpoints/10LSTM_Neurons5Epochs.ckpt\n",
      "15360/15360 [==============================] - 3s 179us/sample - loss: 0.3628 - accuracy: 0.3697 - val_loss: 0.2714 - val_accuracy: 0.3922\n",
      "Epoch 2/5\n",
      "14720/15360 [===========================>..] - ETA: 0s - loss: 0.1798 - accuracy: 0.6729\n",
      "Epoch 00002: saving model to training_checkpoints/10LSTM_Neurons5Epochs.ckpt\n",
      "15360/15360 [==============================] - 1s 85us/sample - loss: 0.1763 - accuracy: 0.6800 - val_loss: 0.1032 - val_accuracy: 0.8278\n",
      "Epoch 3/5\n",
      "14720/15360 [===========================>..] - ETA: 0s - loss: 0.0827 - accuracy: 0.8806\n",
      "Epoch 00003: saving model to training_checkpoints/10LSTM_Neurons5Epochs.ckpt\n",
      "15360/15360 [==============================] - 1s 85us/sample - loss: 0.0817 - accuracy: 0.8817 - val_loss: 0.0678 - val_accuracy: 0.8921\n",
      "Epoch 4/5\n",
      "14720/15360 [===========================>..] - ETA: 0s - loss: 0.0599 - accuracy: 0.9169\n",
      "Epoch 00004: saving model to training_checkpoints/10LSTM_Neurons5Epochs.ckpt\n",
      "15360/15360 [==============================] - 1s 84us/sample - loss: 0.0593 - accuracy: 0.9178 - val_loss: 0.0531 - val_accuracy: 0.9216\n",
      "Epoch 5/5\n",
      "14720/15360 [===========================>..] - ETA: 0s - loss: 0.0483 - accuracy: 0.9250\n",
      "Epoch 00005: saving model to training_checkpoints/10LSTM_Neurons5Epochs.ckpt\n",
      "15360/15360 [==============================] - 1s 85us/sample - loss: 0.0478 - accuracy: 0.9259 - val_loss: 0.0437 - val_accuracy: 0.9340\n",
      "Train on 15360 samples, validate on 3840 samples\n",
      "Epoch 1/5\n",
      "14592/15360 [===========================>..] - ETA: 0s - loss: 0.3144 - accuracy: 0.5458\n",
      "Epoch 00001: saving model to training_checkpoints/20LSTM_Neurons5Epochs.ckpt\n",
      "15360/15360 [==============================] - 3s 179us/sample - loss: 0.3058 - accuracy: 0.5499 - val_loss: 0.1358 - val_accuracy: 0.6263\n",
      "Epoch 2/5\n",
      "14720/15360 [===========================>..] - ETA: 0s - loss: 0.0805 - accuracy: 0.7768\n",
      "Epoch 00002: saving model to training_checkpoints/20LSTM_Neurons5Epochs.ckpt\n",
      "15360/15360 [==============================] - 1s 87us/sample - loss: 0.0791 - accuracy: 0.7810 - val_loss: 0.0509 - val_accuracy: 0.8806\n",
      "Epoch 3/5\n",
      "15104/15360 [============================>.] - ETA: 0s - loss: 0.0384 - accuracy: 0.8848\n",
      "Epoch 00003: saving model to training_checkpoints/20LSTM_Neurons5Epochs.ckpt\n",
      "15360/15360 [==============================] - 1s 86us/sample - loss: 0.0381 - accuracy: 0.8857 - val_loss: 0.0298 - val_accuracy: 0.9206\n",
      "Epoch 4/5\n",
      "14592/15360 [===========================>..] - ETA: 0s - loss: 0.0238 - accuracy: 0.9290\n",
      "Epoch 00004: saving model to training_checkpoints/20LSTM_Neurons5Epochs.ckpt\n",
      "15360/15360 [==============================] - 1s 86us/sample - loss: 0.0236 - accuracy: 0.9303 - val_loss: 0.0199 - val_accuracy: 0.9555\n",
      "Epoch 5/5\n",
      "15232/15360 [============================>.] - ETA: 0s - loss: 0.0164 - accuracy: 0.9504\n",
      "Epoch 00005: saving model to training_checkpoints/20LSTM_Neurons5Epochs.ckpt\n",
      "15360/15360 [==============================] - 1s 87us/sample - loss: 0.0163 - accuracy: 0.9506 - val_loss: 0.0148 - val_accuracy: 0.9662\n"
     ]
    }
   ],
   "source": [
    "model10 = Constructor(Data,10,5,128)\n",
    "model10.fitModel()\n",
    "model20 = Constructor(Data,20,5,128)\n",
    "model20.fitModel()"
   ]
  },
  {
   "cell_type": "code",
   "execution_count": 45,
   "metadata": {},
   "outputs": [],
   "source": [
    "model11 = Constructor(Data,10,5,128,baseline=False)\n",
    "model21 = Constructor(Data,20,5,128,baseline=False)"
   ]
  },
  {
   "cell_type": "code",
   "execution_count": 46,
   "metadata": {},
   "outputs": [
    {
     "name": "stdout",
     "output_type": "stream",
     "text": [
      "WARNING:tensorflow:Layer lstm_5 is casting an input tensor from dtype float64 to the layer's dtype of float32, which is new behavior in TensorFlow 2.  The layer has dtype float32 because it's dtype defaults to floatx.\n",
      "\n",
      "If you intended to run this layer in float32, you can safely ignore this warning. If in doubt, this warning is likely only an issue if you are porting a TensorFlow 1.X model to TensorFlow 2.\n",
      "\n",
      "To change all layers to have dtype float64 by default, call `tf.keras.backend.set_floatx('float64')`. To change just this layer, pass dtype='float64' to the layer constructor. If you are the author of this layer, you can disable autocasting by passing autocast=False to the base Layer constructor.\n",
      "\n",
      "WARNING:tensorflow:Layer lstm_6 is casting an input tensor from dtype float64 to the layer's dtype of float32, which is new behavior in TensorFlow 2.  The layer has dtype float32 because it's dtype defaults to floatx.\n",
      "\n",
      "If you intended to run this layer in float32, you can safely ignore this warning. If in doubt, this warning is likely only an issue if you are porting a TensorFlow 1.X model to TensorFlow 2.\n",
      "\n",
      "To change all layers to have dtype float64 by default, call `tf.keras.backend.set_floatx('float64')`. To change just this layer, pass dtype='float64' to the layer constructor. If you are the author of this layer, you can disable autocasting by passing autocast=False to the base Layer constructor.\n",
      "\n"
     ]
    }
   ],
   "source": [
    "model11.predict()\n",
    "model21.predict()"
   ]
  },
  {
   "cell_type": "code",
   "execution_count": 20,
   "metadata": {},
   "outputs": [],
   "source": [
    "import matplotlib.pyplot as plt"
   ]
  },
  {
   "cell_type": "code",
   "execution_count": 53,
   "metadata": {},
   "outputs": [
    {
     "data": {
      "image/png": "[encoded data removed]",
      "text/plain": [
       "<Figure size 432x288 with 3 Axes>"
      ]
     },
     "metadata": {
      "needs_background": "light"
     },
     "output_type": "display_data"
    }
   ],
   "source": [
    "fig,axs = plt.subplots(3, sharex=True)\n",
    "fig.suptitle('Test')\n",
    "l1 = axs[0]\\\n",
    ".plot(Data.prediction_y_data[:,0],'k-', label= \"True Values\", linewidth=2)\n",
    "axs[0].set(ylabel='$x$ Value')\n",
    "axs[0].plot(model11.pred_y_hat[:,0],'r--',label = \"10 LSTM Units\")\n",
    "axs[0].plot(model21.pred_y_hat[:,0],'b--',label = \"20 LSTM Units\")\n",
    "l2 = axs[1]\\\n",
    ".plot(model2.pred_y_hat[:,0],'k--',label = \"True Values\")\n",
    "axs[1].set(ylabel='$y$ Value')\n",
    "axs[1].plot(model11.pred_y_hat[:,1],'r--',label = \"10 LSTM Units\")\n",
    "axs[1].plot(model21.pred_y_hat[:,1],'b--',label = \"20 LSTM Units\")\n",
    "l3 = axs[2]\\\n",
    ".plot(model2.pred_y_hat[:,0],'k--',label = \"True Values\")\n",
    "axs[2].set(ylabel='$z$ Value')\n",
    "axs[2].plot(model11.pred_y_hat[:,2],'r--',label = \"10 LSTM Units\")\n",
    "axs[2].plot(model21.pred_y_hat[:,2],'b--',label = \"20 LSTM Units\")\n",
    "\n",
    "for ax in axs.flat:\n",
    "    ax.set(xlabel='Time Steps')\n",
    "\n",
    "# Hide x labels and tick labels for top plots and y ticks for right plots.\n",
    "for ax in axs.flat:\n",
    "    ax.label_outer()\n",
    "    \n",
    "plt.legend(loc=(1.05,0))\n",
    " \n",
    "plt.show()\n"
   ]
  },
  {
   "cell_type": "code",
   "execution_count": null,
   "metadata": {},
   "outputs": [],
   "source": []
  }
 ],
 "metadata": {
  "kernelspec": {
   "display_name": "Python 3",
   "language": "python",
   "name": "python3"
  },
  "language_info": {
   "codemirror_mode": {
    "name": "ipython",
    "version": 3
   },
   "file_extension": ".py",
   "mimetype": "text/x-python",
   "name": "python",
   "nbconvert_exporter": "python",
   "pygments_lexer": "ipython3",
   "version": "3.7.6"
  },
  "metadata": {
   "interpreter": {
    "hash": "e8ac26d327d60cedb419d1fc289c4211f406a44b9a89b87cfdb9a53ae9c851eb"
   }
  }
 },
 "nbformat": 4,
 "nbformat_minor": 4
}
